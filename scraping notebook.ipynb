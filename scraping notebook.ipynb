{
 "cells": [
  {
   "cell_type": "code",
   "execution_count": 146,
   "id": "24ece33a",
   "metadata": {},
   "outputs": [],
   "source": [
    "# Import all packages\n",
    "\n",
    "import bs4    # BeautifulSoup is used to scrape websites by parsing the HTML\n",
    "import requests # Requests is used to make HTTP requests\n",
    "import pandas as pd # Pandas is used to create \"dataframes\" which are used for data analysis\n",
    "import copy"
   ]
  },
  {
   "cell_type": "code",
   "execution_count": 147,
   "id": "9c7fd6a2",
   "metadata": {},
   "outputs": [
    {
     "data": {
      "text/plain": [
       "200"
      ]
     },
     "execution_count": 147,
     "metadata": {},
     "output_type": "execute_result"
    }
   ],
   "source": [
    "# Making a request to the URL to get the entire HTML of the page\n",
    "\n",
    "URL=\"https://www.hltv.org/stats/players\" # URL of the page to be scraped\n",
    "HEADER = {'User-Agent': 'Mozilla/5.0 (Windows; U; Windows NT 5.1; en-US; rv:1.9.0.7) Gecko/2009021910 Firefox/3.0.7'} # This is used to prevent the website from blocking the scraper\n",
    "res = requests.get(URL, headers=HEADER) # This is the request to the URL with the headers passed in as a parameter\n",
    "res.status_code # This will return the status code of the request (200 if okay)"
   ]
  },
  {
   "cell_type": "code",
   "execution_count": 148,
   "id": "b7046542",
   "metadata": {},
   "outputs": [
    {
     "data": {
      "text/plain": [
       "('CS:GO Player statistics database | HLTV.org', 'RECENT ACTIVITY')"
      ]
     },
     "execution_count": 148,
     "metadata": {},
     "output_type": "execute_result"
    }
   ],
   "source": [
    "# Parsing the HTML of the page\n",
    "\n",
    "text=res.content # This is the HTML of the page\n",
    "soup= bs4.BeautifulSoup(text) # This is the BeautifulSoup object that will be used to parse the HTML\n",
    "soup.title.text, soup.h1.text # This will return the title and h1 of the page"
   ]
  },
  {
   "cell_type": "code",
   "execution_count": 149,
   "id": "3bf59aa4",
   "metadata": {},
   "outputs": [],
   "source": [
    "# Checking total number of tables to be scraped\n",
    "\n",
    "player_table= soup.find_all('table', attrs={\"class\": \"stats-table player-ratings-table\"}) # This is the table that contains the player data\n",
    "len(player_table) # This will return the number of tables that were found\n",
    "player_table=player_table[0] # This is the first and only table in the list of tables"
   ]
  },
  {
   "cell_type": "code",
   "execution_count": 150,
   "id": "e5fa1788",
   "metadata": {},
   "outputs": [],
   "source": [
    "# Dividing the tale\n",
    "\n",
    "header= player_table.find(\"thead\") # This is the header of the table\n",
    "details= player_table.find(\"tbody\") # This is the body of the table"
   ]
  },
  {
   "cell_type": "code",
   "execution_count": 151,
   "id": "9cf2cc7a",
   "metadata": {},
   "outputs": [
    {
     "data": {
      "text/plain": [
       "<thead>\n",
       "<tr class=\"stats-table-row\">\n",
       "<th class=\"playerCol\">Player</th>\n",
       "<th class=\"teamCol\">Teams</th>\n",
       "<th class=\"mapsCol\">Maps</th>\n",
       "<th class=\"rounds-col gtSmartphone-only\">Rounds</th>\n",
       "<th class=\"kdDiffCol\">K-D Diff</th>\n",
       "<th class=\"kdCol\">K/D</th>\n",
       "<th class=\"ratingCol\">Rating<span class=\"ratingDesc\">1.0</span></th>\n",
       "</tr>\n",
       "</thead>"
      ]
     },
     "execution_count": 151,
     "metadata": {},
     "output_type": "execute_result"
    }
   ],
   "source": [
    "# Checking out the header to see structure and number of columns in the\n",
    "header"
   ]
  },
  {
   "cell_type": "code",
   "execution_count": 152,
   "id": "66ab0fa1",
   "metadata": {},
   "outputs": [],
   "source": [
    "# We will look for all table rows in details and then look for all table cells in each row\n",
    "\n",
    "details= details.find_all(\"tr\") # This is the list of table rows"
   ]
  },
  {
   "cell_type": "code",
   "execution_count": 153,
   "id": "c8022a2f",
   "metadata": {},
   "outputs": [
    {
     "data": {
      "text/plain": [
       "[<th class=\"playerCol\">Player</th>,\n",
       " <th class=\"teamCol\">Teams</th>,\n",
       " <th class=\"mapsCol\">Maps</th>,\n",
       " <th class=\"rounds-col gtSmartphone-only\">Rounds</th>,\n",
       " <th class=\"kdDiffCol\">K-D Diff</th>,\n",
       " <th class=\"kdCol\">K/D</th>,\n",
       " <th class=\"ratingCol\">Rating (1.0)</th>]"
      ]
     },
     "execution_count": 153,
     "metadata": {},
     "output_type": "execute_result"
    }
   ],
   "source": [
    "# Define the columns of the dataframe with meaningful names\n",
    "\n",
    "# Finding the headers of the table\n",
    "headers = player_table.find('thead').find_all('th')\n",
    "# Renaming the headers\n",
    "headers[0].string = 'Player'\n",
    "headers[1].string = 'Teams'\n",
    "headers[2].string = 'Maps'\n",
    "headers[3].string = 'Rounds'\n",
    "headers[4].string = 'K-D Diff'\n",
    "headers[5].string = 'K/D'\n",
    "headers[6].string = 'Rating (1.0)'\n",
    "\n",
    "headers"
   ]
  },
  {
   "cell_type": "code",
   "execution_count": 154,
   "id": "7d3c34b6",
   "metadata": {},
   "outputs": [],
   "source": [
    "list=[]\n",
    "for tr in details:\n",
    "    #name\n",
    "    name= tr.find_all('td', attrs={\"class\": \"playerCol\"})[0].find(\"a\").text\n",
    "    #teams\n",
    "    teams= []\n",
    "    team_td= tr.find_all('td', attrs={\"class\": \"teamCol\"})[0].find_all(\"a\")\n",
    "    for a in team_td:\n",
    "        teams.append(a.find(\"img\").get(\"title\"))\n",
    "    #maps played\n",
    "    no_of_maps= tr.find_all('td', attrs={\"class\": \"statsDetail\"})[0].text\n",
    "    #rounds played\n",
    "    no_of_rounds= tr.find_all('td', attrs={\"class\": \"gtSmartphone-only\"})[0].text\n",
    "    #kd difference\n",
    "    kd_difference= tr.find_all('td', attrs={\"class\": \"kdDiffCol\"})[0].text\n",
    "    #k/d\n",
    "    kd= tr.find_all('td', attrs={\"class\": \"statsDetail\"})[2].text\n",
    "    #HLTV Rating\n",
    "    hltv_rating= tr.find_all('td', attrs={\"class\": \"ratingCol\"})[0].text\n",
    "    #creating element\n",
    "    element={\n",
    "        # define the dictionary\n",
    "        'Name': name,\n",
    "        'Teams': teams,\n",
    "        'Maps': no_of_maps,\n",
    "        'Rounds': no_of_rounds,\n",
    "        'K-D Diff': kd_difference,\n",
    "        'K/D': kd,\n",
    "        'Rating (1.0)': hltv_rating\n",
    "    }\n",
    "    # print(element)\n",
    "    #appending element\n",
    "    list.append(element)\n",
    "    # print (list)"
   ]
  },
  {
   "cell_type": "code",
   "execution_count": 164,
   "id": "e8281596",
   "metadata": {},
   "outputs": [],
   "source": [
    "# Convert List of Dictionaries to DataFrame\n",
    "df = pd.DataFrame(list)"
   ]
  },
  {
   "cell_type": "code",
   "execution_count": 156,
   "id": "4cd6b6c2",
   "metadata": {},
   "outputs": [],
   "source": [
    "# Convert the HLTV Rating to a float\n",
    "df['Rating (1.0)'] = df['Rating (1.0)'].astype(float)"
   ]
  },
  {
   "cell_type": "code",
   "execution_count": 157,
   "id": "07c07435",
   "metadata": {},
   "outputs": [],
   "source": [
    "def prettier(list): # This is a function that will be used to format the dataframe\n",
    "    return list[1:-1]"
   ]
  },
  {
   "cell_type": "code",
   "execution_count": 162,
   "id": "ac10aecc",
   "metadata": {},
   "outputs": [],
   "source": [
    "# Format the Teams Played In a list\n",
    "df['Teams'] = df['Teams'].apply(lambda x: ','.join(x))\n",
    "df['Teams'] = df['Teams'].str.split(',')"
   ]
  },
  {
   "cell_type": "code",
   "execution_count": 163,
   "id": "b949ce55",
   "metadata": {},
   "outputs": [],
   "source": [
    "# Export the dataframe as a CSV/Excel file with index=False\n",
    "# path should be \"./\"\n",
    "df.to_csv(\"./Scrape_Data.csv\", index=False)"
   ]
  },
  {
   "cell_type": "code",
   "execution_count": null,
   "id": "f18ba8d6",
   "metadata": {},
   "outputs": [],
   "source": []
  }
 ],
 "metadata": {
  "kernelspec": {
   "display_name": "Python 3",
   "language": "python",
   "name": "python3"
  },
  "language_info": {
   "codemirror_mode": {
    "name": "ipython",
    "version": 3
   },
   "file_extension": ".py",
   "mimetype": "text/x-python",
   "name": "python",
   "nbconvert_exporter": "python",
   "pygments_lexer": "ipython3",
   "version": "3.9.7"
  },
  "vscode": {
   "interpreter": {
    "hash": "441191bd059aa47c305636395a26980bf01a2bf2a50b7ff0b3681c7d0274b9f0"
   }
  }
 },
 "nbformat": 4,
 "nbformat_minor": 5
}
